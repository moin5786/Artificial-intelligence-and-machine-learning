{
  "nbformat": 4,
  "nbformat_minor": 0,
  "metadata": {
    "colab": {
      "provenance": []
    },
    "kernelspec": {
      "name": "python3",
      "display_name": "Python 3"
    },
    "language_info": {
      "name": "python"
    }
  },
  "cells": [
    {
      "cell_type": "code",
      "execution_count": null,
      "metadata": {
        "colab": {
          "base_uri": "https://localhost:8080/"
        },
        "id": "iyQOyMkhkVrC",
        "outputId": "94d9c184-738b-49dd-b743-6a6b5577b854"
      },
      "outputs": [
        {
          "output_type": "execute_result",
          "data": {
            "text/plain": [
              "[31, 13, 23, 25, 1, 2, 3]"
            ]
          },
          "metadata": {},
          "execution_count": 1
        }
      ],
      "source": [
        "#Task 1--\n",
        "a=[31,13,23,25]\n",
        "b=[1,2,3]\n",
        "a+b"
      ]
    },
    {
      "cell_type": "code",
      "source": [
        "#task2--\n",
        "num = int(input(\"Enter a number: \"))\n",
        "if (num % 2) == 0:\n",
        "   print(\"{0} is Even\".format(num))\n",
        "else:\n",
        "   print(\"{0} is Odd\".format(num))"
      ],
      "metadata": {
        "id": "A8vieUpyll3F"
      },
      "execution_count": null,
      "outputs": []
    },
    {
      "cell_type": "code",
      "source": [
        "#task 3--\n",
        "d1={'s.no':[1,2,3],'name':['chiru','jhanu','balaji'],'rollno':[31,13,23]}\n",
        "d1"
      ],
      "metadata": {
        "id": "zqP3aOmBn6oQ"
      },
      "execution_count": null,
      "outputs": []
    },
    {
      "cell_type": "code",
      "source": [
        "#task 4--\n",
        "def find_odd_numbers(start, end):\n",
        "    for num in range(start, end + 1):\n",
        "        if num % 2 != 0:\n",
        "            print(num)\n",
        "\n",
        "find_odd_numbers(1, 100)"
      ],
      "metadata": {
        "id": "sTuUxDN-oAU2"
      },
      "execution_count": null,
      "outputs": []
    },
    {
      "cell_type": "code",
      "source": [
        "#task 5--\n",
        "my_list = [1, 2, 3, 4, 5]\n",
        "\n",
        "sum = 0\n",
        "for item in my_list:\n",
        "    sum += item\n",
        "\n",
        "print(\"The sum of all items in the list is:\", sum)"
      ],
      "metadata": {
        "id": "V6J1jgxjoH7l"
      },
      "execution_count": null,
      "outputs": []
    }
  ]
}